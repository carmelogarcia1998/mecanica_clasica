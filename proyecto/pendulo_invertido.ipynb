{
 "cells": [
  {
   "cell_type": "markdown",
   "metadata": {},
   "source": [
    "# Pendulo Invertido\n",
    "\n",
    "\n",
    "### El proyecto asignado es el cálculo de un sistema de péndulo invertido (ver figura), tal que su movimiento está limitado por un resorte (el origen del eje se desplaza de manera oscilatoria)\n",
    "\n",
    "### La primera parte es calcular el Hamiltoniano y Lagrangiano.\n",
    "\n",
    "### Asimismo, debes calcular en python las siguientes gráficas (antes  debes explicar y en qué consiste estas 4 gráficas) con especial énfasis en lo que pueden aportar dichas gráficas en el problema. \n",
    "\n",
    "### Las gráficas que se van a calcular son las siguientes:\n",
    "#### (a) Puntos de Lagrange\n",
    "#### (b) Diagrama de Poincaré\n",
    "#### (c) deterinar las Orbitas\n",
    "#### (d) Grafica de velocidad cero\n",
    "\n",
    "<p align=\"center\"> <img src=\"./pendu1.jpg\" alt=\"Mi imagen local\"> \n",
    "\n"
   ]
  },
  {
   "cell_type": "markdown",
   "metadata": {},
   "source": [
    "Para calcular el Lagrangiano "
   ]
  }
 ],
 "metadata": {
  "kernelspec": {
   "display_name": "Python 3",
   "language": "python",
   "name": "python3"
  },
  "language_info": {
   "name": "python",
   "version": "3.12.3"
  }
 },
 "nbformat": 4,
 "nbformat_minor": 2
}
